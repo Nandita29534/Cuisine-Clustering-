{
 "cells": [
  {
   "cell_type": "code",
   "execution_count": 1,
   "id": "db8d62a1-4ec4-4e05-b70b-ecb0f7167be5",
   "metadata": {},
   "outputs": [],
   "source": [
    "import warnings"
   ]
  },
  {
   "cell_type": "code",
   "execution_count": 2,
   "id": "783937d7-e9e8-449e-8912-9b7aaf9a5b25",
   "metadata": {},
   "outputs": [],
   "source": [
    "import pandas as pd\n",
    "import numpy as np"
   ]
  },
  {
   "cell_type": "code",
   "execution_count": 3,
   "id": "e92af0be-2d9b-47d8-ba8c-c2f2807bc011",
   "metadata": {},
   "outputs": [],
   "source": [
    "import matplotlib.pyplot as plt\n",
    "import seaborn as sns"
   ]
  },
  {
   "cell_type": "code",
   "execution_count": 4,
   "id": "f4f92f4e-a884-42eb-99bf-b495a2567ce7",
   "metadata": {},
   "outputs": [],
   "source": [
    "import ast"
   ]
  },
  {
   "cell_type": "code",
   "execution_count": 5,
   "id": "d727c2b3-7f59-4473-aeb7-dfe9be126e30",
   "metadata": {},
   "outputs": [],
   "source": [
    "import re"
   ]
  },
  {
   "cell_type": "code",
   "execution_count": 6,
   "id": "420a89f0-fde1-4716-bec7-0c53d89d14f9",
   "metadata": {},
   "outputs": [],
   "source": [
    "import nltk"
   ]
  },
  {
   "cell_type": "code",
   "execution_count": 7,
   "id": "582d15a9-a334-484b-baaf-bd72c0b6da28",
   "metadata": {},
   "outputs": [],
   "source": [
    "import string"
   ]
  },
  {
   "cell_type": "code",
   "execution_count": 8,
   "id": "f0f05f33-86ac-4c30-a8a3-e87eea704f2c",
   "metadata": {},
   "outputs": [],
   "source": [
    "from nltk.corpus import stopwords, wordnet\n",
    "from nltk.tokenize import word_tokenize\n",
    "from nltk.stem import WordNetLemmatizer"
   ]
  },
  {
   "cell_type": "code",
   "execution_count": 9,
   "id": "533b298d-5d06-4e8a-9dea-04d8348c7e6e",
   "metadata": {},
   "outputs": [],
   "source": [
    "warnings.filterwarnings('ignore')"
   ]
  },
  {
   "cell_type": "code",
   "execution_count": 10,
   "id": "a2f4cffa-9cc7-41ed-800a-040d89025396",
   "metadata": {},
   "outputs": [
    {
     "name": "stderr",
     "output_type": "stream",
     "text": [
      "[nltk_data] Downloading package stopwords to\n",
      "[nltk_data]     C:\\Users\\Nandita\\AppData\\Roaming\\nltk_data...\n",
      "[nltk_data]   Package stopwords is already up-to-date!\n"
     ]
    },
    {
     "data": {
      "text/plain": [
       "True"
      ]
     },
     "execution_count": 10,
     "metadata": {},
     "output_type": "execute_result"
    }
   ],
   "source": [
    "nltk.download('stopwords')"
   ]
  },
  {
   "cell_type": "code",
   "execution_count": 11,
   "id": "4bb422b4-e988-482c-904b-5399235a0dc6",
   "metadata": {},
   "outputs": [
    {
     "name": "stderr",
     "output_type": "stream",
     "text": [
      "[nltk_data] Downloading package punkt to\n",
      "[nltk_data]     C:\\Users\\Nandita\\AppData\\Roaming\\nltk_data...\n",
      "[nltk_data]   Package punkt is already up-to-date!\n",
      "[nltk_data] Downloading package wordnet to\n",
      "[nltk_data]     C:\\Users\\Nandita\\AppData\\Roaming\\nltk_data...\n",
      "[nltk_data]   Package wordnet is already up-to-date!\n",
      "[nltk_data] Downloading package omw-1.4 to\n",
      "[nltk_data]     C:\\Users\\Nandita\\AppData\\Roaming\\nltk_data...\n",
      "[nltk_data]   Package omw-1.4 is already up-to-date!\n"
     ]
    },
    {
     "data": {
      "text/plain": [
       "True"
      ]
     },
     "execution_count": 11,
     "metadata": {},
     "output_type": "execute_result"
    }
   ],
   "source": [
    "nltk.download('punkt')\n",
    "nltk.download('wordnet')\n",
    "nltk.download('omw-1.4')"
   ]
  },
  {
   "cell_type": "code",
   "execution_count": 12,
   "id": "c835e9fa-4ef3-43ae-93b3-0fc7e02f9981",
   "metadata": {},
   "outputs": [],
   "source": [
    "from scipy.sparse import hstack,csr_matrix,issparse"
   ]
  },
  {
   "cell_type": "code",
   "execution_count": 13,
   "id": "6f0f4d58-ab14-4ea5-9654-0d062a5db8e9",
   "metadata": {},
   "outputs": [],
   "source": [
    "stop_words = set(stopwords.words('english'))"
   ]
  },
  {
   "cell_type": "code",
   "execution_count": 14,
   "id": "ff5ab896-df55-4679-8f7d-50aafc387452",
   "metadata": {},
   "outputs": [],
   "source": [
    "lemmatizer = WordNetLemmatizer()"
   ]
  },
  {
   "cell_type": "code",
   "execution_count": 15,
   "id": "8201fa9f-808e-460a-b074-b6e861ed3e94",
   "metadata": {},
   "outputs": [],
   "source": [
    "df = pd.read_csv(\"TA_restaurants_curated.csv\")"
   ]
  },
  {
   "cell_type": "code",
   "execution_count": 16,
   "id": "9741bdba-7e76-409e-ae32-0d0164fc069c",
   "metadata": {},
   "outputs": [
    {
     "data": {
      "text/html": [
       "<div>\n",
       "<style scoped>\n",
       "    .dataframe tbody tr th:only-of-type {\n",
       "        vertical-align: middle;\n",
       "    }\n",
       "\n",
       "    .dataframe tbody tr th {\n",
       "        vertical-align: top;\n",
       "    }\n",
       "\n",
       "    .dataframe thead th {\n",
       "        text-align: right;\n",
       "    }\n",
       "</style>\n",
       "<table border=\"1\" class=\"dataframe\">\n",
       "  <thead>\n",
       "    <tr style=\"text-align: right;\">\n",
       "      <th></th>\n",
       "      <th>Unnamed: 0</th>\n",
       "      <th>Name</th>\n",
       "      <th>City</th>\n",
       "      <th>Cuisine Style</th>\n",
       "      <th>Ranking</th>\n",
       "      <th>Rating</th>\n",
       "      <th>Price Range</th>\n",
       "      <th>Number of Reviews</th>\n",
       "      <th>Reviews</th>\n",
       "      <th>URL_TA</th>\n",
       "      <th>ID_TA</th>\n",
       "    </tr>\n",
       "  </thead>\n",
       "  <tbody>\n",
       "    <tr>\n",
       "      <th>0</th>\n",
       "      <td>0</td>\n",
       "      <td>Martine of Martine's Table</td>\n",
       "      <td>Amsterdam</td>\n",
       "      <td>['French', 'Dutch', 'European']</td>\n",
       "      <td>1.0</td>\n",
       "      <td>5.0</td>\n",
       "      <td>$$ - $$$</td>\n",
       "      <td>136.0</td>\n",
       "      <td>[['Just like home', 'A Warm Welcome to Wintry ...</td>\n",
       "      <td>/Restaurant_Review-g188590-d11752080-Reviews-M...</td>\n",
       "      <td>d11752080</td>\n",
       "    </tr>\n",
       "    <tr>\n",
       "      <th>1</th>\n",
       "      <td>1</td>\n",
       "      <td>De Silveren Spiegel</td>\n",
       "      <td>Amsterdam</td>\n",
       "      <td>['Dutch', 'European', 'Vegetarian Friendly', '...</td>\n",
       "      <td>2.0</td>\n",
       "      <td>4.5</td>\n",
       "      <td>$$$$</td>\n",
       "      <td>812.0</td>\n",
       "      <td>[['Great food and staff', 'just perfect'], ['0...</td>\n",
       "      <td>/Restaurant_Review-g188590-d693419-Reviews-De_...</td>\n",
       "      <td>d693419</td>\n",
       "    </tr>\n",
       "    <tr>\n",
       "      <th>2</th>\n",
       "      <td>2</td>\n",
       "      <td>La Rive</td>\n",
       "      <td>Amsterdam</td>\n",
       "      <td>['Mediterranean', 'French', 'International', '...</td>\n",
       "      <td>3.0</td>\n",
       "      <td>4.5</td>\n",
       "      <td>$$$$</td>\n",
       "      <td>567.0</td>\n",
       "      <td>[['Satisfaction', 'Delicious old school restau...</td>\n",
       "      <td>/Restaurant_Review-g188590-d696959-Reviews-La_...</td>\n",
       "      <td>d696959</td>\n",
       "    </tr>\n",
       "    <tr>\n",
       "      <th>3</th>\n",
       "      <td>3</td>\n",
       "      <td>Vinkeles</td>\n",
       "      <td>Amsterdam</td>\n",
       "      <td>['French', 'European', 'International', 'Conte...</td>\n",
       "      <td>4.0</td>\n",
       "      <td>5.0</td>\n",
       "      <td>$$$$</td>\n",
       "      <td>564.0</td>\n",
       "      <td>[['True five star dinner', 'A superb evening o...</td>\n",
       "      <td>/Restaurant_Review-g188590-d1239229-Reviews-Vi...</td>\n",
       "      <td>d1239229</td>\n",
       "    </tr>\n",
       "    <tr>\n",
       "      <th>4</th>\n",
       "      <td>4</td>\n",
       "      <td>Librije's Zusje Amsterdam</td>\n",
       "      <td>Amsterdam</td>\n",
       "      <td>['Dutch', 'European', 'International', 'Vegeta...</td>\n",
       "      <td>5.0</td>\n",
       "      <td>4.5</td>\n",
       "      <td>$$$$</td>\n",
       "      <td>316.0</td>\n",
       "      <td>[['Best meal.... EVER', 'super food experience...</td>\n",
       "      <td>/Restaurant_Review-g188590-d6864170-Reviews-Li...</td>\n",
       "      <td>d6864170</td>\n",
       "    </tr>\n",
       "  </tbody>\n",
       "</table>\n",
       "</div>"
      ],
      "text/plain": [
       "   Unnamed: 0                        Name       City  \\\n",
       "0           0  Martine of Martine's Table  Amsterdam   \n",
       "1           1         De Silveren Spiegel  Amsterdam   \n",
       "2           2                     La Rive  Amsterdam   \n",
       "3           3                    Vinkeles  Amsterdam   \n",
       "4           4   Librije's Zusje Amsterdam  Amsterdam   \n",
       "\n",
       "                                       Cuisine Style  Ranking  Rating  \\\n",
       "0                    ['French', 'Dutch', 'European']      1.0     5.0   \n",
       "1  ['Dutch', 'European', 'Vegetarian Friendly', '...      2.0     4.5   \n",
       "2  ['Mediterranean', 'French', 'International', '...      3.0     4.5   \n",
       "3  ['French', 'European', 'International', 'Conte...      4.0     5.0   \n",
       "4  ['Dutch', 'European', 'International', 'Vegeta...      5.0     4.5   \n",
       "\n",
       "  Price Range  Number of Reviews  \\\n",
       "0    $$ - $$$              136.0   \n",
       "1        $$$$              812.0   \n",
       "2        $$$$              567.0   \n",
       "3        $$$$              564.0   \n",
       "4        $$$$              316.0   \n",
       "\n",
       "                                             Reviews  \\\n",
       "0  [['Just like home', 'A Warm Welcome to Wintry ...   \n",
       "1  [['Great food and staff', 'just perfect'], ['0...   \n",
       "2  [['Satisfaction', 'Delicious old school restau...   \n",
       "3  [['True five star dinner', 'A superb evening o...   \n",
       "4  [['Best meal.... EVER', 'super food experience...   \n",
       "\n",
       "                                              URL_TA      ID_TA  \n",
       "0  /Restaurant_Review-g188590-d11752080-Reviews-M...  d11752080  \n",
       "1  /Restaurant_Review-g188590-d693419-Reviews-De_...    d693419  \n",
       "2  /Restaurant_Review-g188590-d696959-Reviews-La_...    d696959  \n",
       "3  /Restaurant_Review-g188590-d1239229-Reviews-Vi...   d1239229  \n",
       "4  /Restaurant_Review-g188590-d6864170-Reviews-Li...   d6864170  "
      ]
     },
     "execution_count": 16,
     "metadata": {},
     "output_type": "execute_result"
    }
   ],
   "source": [
    "df.head()"
   ]
  },
  {
   "cell_type": "code",
   "execution_count": 17,
   "id": "87f78610-efa2-4e01-acbf-3ff52a7b4c7e",
   "metadata": {},
   "outputs": [
    {
     "data": {
      "text/plain": [
       "(125527, 11)"
      ]
     },
     "execution_count": 17,
     "metadata": {},
     "output_type": "execute_result"
    }
   ],
   "source": [
    "df.shape"
   ]
  },
  {
   "cell_type": "code",
   "execution_count": 18,
   "id": "5ba07e74-ccd5-419e-89a3-f88c1d5113f2",
   "metadata": {},
   "outputs": [
    {
     "data": {
      "text/plain": [
       "Index(['Unnamed: 0', 'Name', 'City', 'Cuisine Style', 'Ranking', 'Rating',\n",
       "       'Price Range', 'Number of Reviews', 'Reviews', 'URL_TA', 'ID_TA'],\n",
       "      dtype='object')"
      ]
     },
     "execution_count": 18,
     "metadata": {},
     "output_type": "execute_result"
    }
   ],
   "source": [
    "df.columns"
   ]
  },
  {
   "cell_type": "code",
   "execution_count": 19,
   "id": "45904b81-c8ae-4aea-a950-102a14faa955",
   "metadata": {},
   "outputs": [
    {
     "data": {
      "text/plain": [
       "array(['Amsterdam', 'Athens', 'Barcelona', 'Berlin', 'Bratislava',\n",
       "       'Brussels', 'Budapest', 'Copenhagen', 'Dublin', 'Edinburgh',\n",
       "       'Geneva', 'Hamburg', 'Helsinki', 'Krakow', 'Lisbon', 'Ljubljana',\n",
       "       'London', 'Luxembourg', 'Lyon', 'Madrid', 'Milan', 'Munich',\n",
       "       'Oporto', 'Oslo', 'Paris', 'Prague', 'Rome', 'Stockholm', 'Vienna',\n",
       "       'Warsaw', 'Zurich'], dtype=object)"
      ]
     },
     "execution_count": 19,
     "metadata": {},
     "output_type": "execute_result"
    }
   ],
   "source": [
    "df['City'].unique()"
   ]
  },
  {
   "cell_type": "code",
   "execution_count": 20,
   "id": "f049e40c-6ed5-4cca-a02e-ee0901836232",
   "metadata": {},
   "outputs": [
    {
     "data": {
      "text/plain": [
       "31"
      ]
     },
     "execution_count": 20,
     "metadata": {},
     "output_type": "execute_result"
    }
   ],
   "source": [
    "df['City'].nunique()"
   ]
  },
  {
   "cell_type": "code",
   "execution_count": 21,
   "id": "d8e3650e-6916-464f-85e7-f5f7e1252aa8",
   "metadata": {},
   "outputs": [
    {
     "data": {
      "text/plain": [
       "City\n",
       "London        18212\n",
       "Paris         14874\n",
       "Madrid         9543\n",
       "Barcelona      8425\n",
       "Berlin         7078\n",
       "Milan          6687\n",
       "Rome           5949\n",
       "Prague         4859\n",
       "Lisbon         3986\n",
       "Vienna         3724\n",
       "Amsterdam      3434\n",
       "Brussels       3204\n",
       "Hamburg        3131\n",
       "Munich         2995\n",
       "Lyon           2930\n",
       "Stockholm      2705\n",
       "Budapest       2606\n",
       "Warsaw         2352\n",
       "Copenhagen     2109\n",
       "Dublin         2082\n",
       "Athens         1938\n",
       "Edinburgh      1865\n",
       "Zurich         1667\n",
       "Oporto         1580\n",
       "Geneva         1572\n",
       "Krakow         1354\n",
       "Helsinki       1228\n",
       "Oslo           1213\n",
       "Bratislava     1067\n",
       "Luxembourg      657\n",
       "Ljubljana       501\n",
       "Name: count, dtype: int64"
      ]
     },
     "execution_count": 21,
     "metadata": {},
     "output_type": "execute_result"
    }
   ],
   "source": [
    "df['City'].value_counts()"
   ]
  },
  {
   "cell_type": "code",
   "execution_count": 22,
   "id": "50a87c48-f3cd-4604-b959-e1822e84d379",
   "metadata": {},
   "outputs": [
    {
     "data": {
      "text/plain": [
       "Unnamed: 0            0.000000\n",
       "Name                  0.000000\n",
       "City                  0.000000\n",
       "Cuisine Style        24.975503\n",
       "Ranking               7.688386\n",
       "Rating                7.671656\n",
       "Price Range          38.123272\n",
       "Number of Reviews    13.816948\n",
       "Reviews               7.660503\n",
       "URL_TA                0.000000\n",
       "ID_TA                 0.000000\n",
       "dtype: float64"
      ]
     },
     "execution_count": 22,
     "metadata": {},
     "output_type": "execute_result"
    }
   ],
   "source": [
    "df.isnull().sum()/len(df)*100"
   ]
  },
  {
   "cell_type": "code",
   "execution_count": 23,
   "id": "4d95473a-9cbb-404c-bfa4-3f3b2de3ba60",
   "metadata": {},
   "outputs": [],
   "source": [
    "df = df[['Name','City','Cuisine Style','Ranking','Rating','Price Range','Number of Reviews','Reviews']]"
   ]
  },
  {
   "cell_type": "code",
   "execution_count": 24,
   "id": "2d9de96a-5699-4431-80fd-ed21298fe26f",
   "metadata": {},
   "outputs": [
    {
     "data": {
      "text/html": [
       "<div>\n",
       "<style scoped>\n",
       "    .dataframe tbody tr th:only-of-type {\n",
       "        vertical-align: middle;\n",
       "    }\n",
       "\n",
       "    .dataframe tbody tr th {\n",
       "        vertical-align: top;\n",
       "    }\n",
       "\n",
       "    .dataframe thead th {\n",
       "        text-align: right;\n",
       "    }\n",
       "</style>\n",
       "<table border=\"1\" class=\"dataframe\">\n",
       "  <thead>\n",
       "    <tr style=\"text-align: right;\">\n",
       "      <th></th>\n",
       "      <th>Name</th>\n",
       "      <th>City</th>\n",
       "      <th>Cuisine Style</th>\n",
       "      <th>Ranking</th>\n",
       "      <th>Rating</th>\n",
       "      <th>Price Range</th>\n",
       "      <th>Number of Reviews</th>\n",
       "      <th>Reviews</th>\n",
       "    </tr>\n",
       "  </thead>\n",
       "  <tbody>\n",
       "    <tr>\n",
       "      <th>0</th>\n",
       "      <td>Martine of Martine's Table</td>\n",
       "      <td>Amsterdam</td>\n",
       "      <td>['French', 'Dutch', 'European']</td>\n",
       "      <td>1.0</td>\n",
       "      <td>5.0</td>\n",
       "      <td>$$ - $$$</td>\n",
       "      <td>136.0</td>\n",
       "      <td>[['Just like home', 'A Warm Welcome to Wintry ...</td>\n",
       "    </tr>\n",
       "    <tr>\n",
       "      <th>1</th>\n",
       "      <td>De Silveren Spiegel</td>\n",
       "      <td>Amsterdam</td>\n",
       "      <td>['Dutch', 'European', 'Vegetarian Friendly', '...</td>\n",
       "      <td>2.0</td>\n",
       "      <td>4.5</td>\n",
       "      <td>$$$$</td>\n",
       "      <td>812.0</td>\n",
       "      <td>[['Great food and staff', 'just perfect'], ['0...</td>\n",
       "    </tr>\n",
       "    <tr>\n",
       "      <th>2</th>\n",
       "      <td>La Rive</td>\n",
       "      <td>Amsterdam</td>\n",
       "      <td>['Mediterranean', 'French', 'International', '...</td>\n",
       "      <td>3.0</td>\n",
       "      <td>4.5</td>\n",
       "      <td>$$$$</td>\n",
       "      <td>567.0</td>\n",
       "      <td>[['Satisfaction', 'Delicious old school restau...</td>\n",
       "    </tr>\n",
       "    <tr>\n",
       "      <th>3</th>\n",
       "      <td>Vinkeles</td>\n",
       "      <td>Amsterdam</td>\n",
       "      <td>['French', 'European', 'International', 'Conte...</td>\n",
       "      <td>4.0</td>\n",
       "      <td>5.0</td>\n",
       "      <td>$$$$</td>\n",
       "      <td>564.0</td>\n",
       "      <td>[['True five star dinner', 'A superb evening o...</td>\n",
       "    </tr>\n",
       "    <tr>\n",
       "      <th>4</th>\n",
       "      <td>Librije's Zusje Amsterdam</td>\n",
       "      <td>Amsterdam</td>\n",
       "      <td>['Dutch', 'European', 'International', 'Vegeta...</td>\n",
       "      <td>5.0</td>\n",
       "      <td>4.5</td>\n",
       "      <td>$$$$</td>\n",
       "      <td>316.0</td>\n",
       "      <td>[['Best meal.... EVER', 'super food experience...</td>\n",
       "    </tr>\n",
       "  </tbody>\n",
       "</table>\n",
       "</div>"
      ],
      "text/plain": [
       "                         Name       City  \\\n",
       "0  Martine of Martine's Table  Amsterdam   \n",
       "1         De Silveren Spiegel  Amsterdam   \n",
       "2                     La Rive  Amsterdam   \n",
       "3                    Vinkeles  Amsterdam   \n",
       "4   Librije's Zusje Amsterdam  Amsterdam   \n",
       "\n",
       "                                       Cuisine Style  Ranking  Rating  \\\n",
       "0                    ['French', 'Dutch', 'European']      1.0     5.0   \n",
       "1  ['Dutch', 'European', 'Vegetarian Friendly', '...      2.0     4.5   \n",
       "2  ['Mediterranean', 'French', 'International', '...      3.0     4.5   \n",
       "3  ['French', 'European', 'International', 'Conte...      4.0     5.0   \n",
       "4  ['Dutch', 'European', 'International', 'Vegeta...      5.0     4.5   \n",
       "\n",
       "  Price Range  Number of Reviews  \\\n",
       "0    $$ - $$$              136.0   \n",
       "1        $$$$              812.0   \n",
       "2        $$$$              567.0   \n",
       "3        $$$$              564.0   \n",
       "4        $$$$              316.0   \n",
       "\n",
       "                                             Reviews  \n",
       "0  [['Just like home', 'A Warm Welcome to Wintry ...  \n",
       "1  [['Great food and staff', 'just perfect'], ['0...  \n",
       "2  [['Satisfaction', 'Delicious old school restau...  \n",
       "3  [['True five star dinner', 'A superb evening o...  \n",
       "4  [['Best meal.... EVER', 'super food experience...  "
      ]
     },
     "execution_count": 24,
     "metadata": {},
     "output_type": "execute_result"
    }
   ],
   "source": [
    "df.head()"
   ]
  },
  {
   "cell_type": "code",
   "execution_count": 25,
   "id": "7c5d6cce-a2f2-46f3-9358-9dfc6361299e",
   "metadata": {},
   "outputs": [
    {
     "data": {
      "text/html": [
       "<div>\n",
       "<style scoped>\n",
       "    .dataframe tbody tr th:only-of-type {\n",
       "        vertical-align: middle;\n",
       "    }\n",
       "\n",
       "    .dataframe tbody tr th {\n",
       "        vertical-align: top;\n",
       "    }\n",
       "\n",
       "    .dataframe thead th {\n",
       "        text-align: right;\n",
       "    }\n",
       "</style>\n",
       "<table border=\"1\" class=\"dataframe\">\n",
       "  <thead>\n",
       "    <tr style=\"text-align: right;\">\n",
       "      <th></th>\n",
       "      <th>Name</th>\n",
       "      <th>City</th>\n",
       "      <th>Cuisine Style</th>\n",
       "      <th>Ranking</th>\n",
       "      <th>Rating</th>\n",
       "      <th>Price Range</th>\n",
       "      <th>Number of Reviews</th>\n",
       "      <th>Reviews</th>\n",
       "    </tr>\n",
       "  </thead>\n",
       "  <tbody>\n",
       "    <tr>\n",
       "      <th>175</th>\n",
       "      <td>Barney's Coffeeshop</td>\n",
       "      <td>Amsterdam</td>\n",
       "      <td>NaN</td>\n",
       "      <td>176.0</td>\n",
       "      <td>4.5</td>\n",
       "      <td>NaN</td>\n",
       "      <td>498.0</td>\n",
       "      <td>[['So good we went back 3 times', 'Polite staf...</td>\n",
       "    </tr>\n",
       "    <tr>\n",
       "      <th>282</th>\n",
       "      <td>Excalibur Cafe</td>\n",
       "      <td>Amsterdam</td>\n",
       "      <td>NaN</td>\n",
       "      <td>283.0</td>\n",
       "      <td>4.5</td>\n",
       "      <td>NaN</td>\n",
       "      <td>204.0</td>\n",
       "      <td>[['Great bar', 'Old school metal music'], ['12...</td>\n",
       "    </tr>\n",
       "    <tr>\n",
       "      <th>708</th>\n",
       "      <td>Cafe De Kroegtijger</td>\n",
       "      <td>Amsterdam</td>\n",
       "      <td>NaN</td>\n",
       "      <td>709.0</td>\n",
       "      <td>5.0</td>\n",
       "      <td>NaN</td>\n",
       "      <td>23.0</td>\n",
       "      <td>[['Short break', 'Excellent place'], ['01/06/2...</td>\n",
       "    </tr>\n",
       "    <tr>\n",
       "      <th>831</th>\n",
       "      <td>In de Olofspoort</td>\n",
       "      <td>Amsterdam</td>\n",
       "      <td>NaN</td>\n",
       "      <td>833.0</td>\n",
       "      <td>4.5</td>\n",
       "      <td>NaN</td>\n",
       "      <td>63.0</td>\n",
       "      <td>[['Wonderful Experience !!', 'Absolutely the b...</td>\n",
       "    </tr>\n",
       "    <tr>\n",
       "      <th>849</th>\n",
       "      <td>Vesper Bar</td>\n",
       "      <td>Amsterdam</td>\n",
       "      <td>NaN</td>\n",
       "      <td>851.0</td>\n",
       "      <td>4.5</td>\n",
       "      <td>NaN</td>\n",
       "      <td>110.0</td>\n",
       "      <td>[['Great spot', 'What a cocktail'], ['11/14/20...</td>\n",
       "    </tr>\n",
       "    <tr>\n",
       "      <th>1121</th>\n",
       "      <td>Prinz Wolf</td>\n",
       "      <td>Amsterdam</td>\n",
       "      <td>NaN</td>\n",
       "      <td>1124.0</td>\n",
       "      <td>5.0</td>\n",
       "      <td>NaN</td>\n",
       "      <td>12.0</td>\n",
       "      <td>[['Delicious!', 'Last night in Amsterdam'], ['...</td>\n",
       "    </tr>\n",
       "    <tr>\n",
       "      <th>1141</th>\n",
       "      <td>Anne &amp; Max</td>\n",
       "      <td>Amsterdam</td>\n",
       "      <td>NaN</td>\n",
       "      <td>1144.0</td>\n",
       "      <td>4.5</td>\n",
       "      <td>NaN</td>\n",
       "      <td>25.0</td>\n",
       "      <td>[['Healthy Food with Good Design', 'New and tr...</td>\n",
       "    </tr>\n",
       "    <tr>\n",
       "      <th>1213</th>\n",
       "      <td>Little Delirium Cafe</td>\n",
       "      <td>Amsterdam</td>\n",
       "      <td>NaN</td>\n",
       "      <td>1216.0</td>\n",
       "      <td>4.5</td>\n",
       "      <td>NaN</td>\n",
       "      <td>24.0</td>\n",
       "      <td>[['Great for a last round of beer', 'Best beer...</td>\n",
       "    </tr>\n",
       "    <tr>\n",
       "      <th>1218</th>\n",
       "      <td>Quies Tea</td>\n",
       "      <td>Amsterdam</td>\n",
       "      <td>NaN</td>\n",
       "      <td>1221.0</td>\n",
       "      <td>5.0</td>\n",
       "      <td>NaN</td>\n",
       "      <td>13.0</td>\n",
       "      <td>[['Hotspot with delicious teas an amazing hea....</td>\n",
       "    </tr>\n",
       "    <tr>\n",
       "      <th>1331</th>\n",
       "      <td>Clubhouse Old Course</td>\n",
       "      <td>Amsterdam</td>\n",
       "      <td>NaN</td>\n",
       "      <td>1334.0</td>\n",
       "      <td>4.5</td>\n",
       "      <td>NaN</td>\n",
       "      <td>21.0</td>\n",
       "      <td>[['Oasis'], ['10/18/2016']]</td>\n",
       "    </tr>\n",
       "    <tr>\n",
       "      <th>1342</th>\n",
       "      <td>Artisani Burgers</td>\n",
       "      <td>Amsterdam</td>\n",
       "      <td>NaN</td>\n",
       "      <td>1345.0</td>\n",
       "      <td>4.5</td>\n",
       "      <td>NaN</td>\n",
       "      <td>22.0</td>\n",
       "      <td>[['Brill Burgers', 'Great halaal burgers'], ['...</td>\n",
       "    </tr>\n",
       "    <tr>\n",
       "      <th>1369</th>\n",
       "      <td>Nest</td>\n",
       "      <td>Amsterdam</td>\n",
       "      <td>NaN</td>\n",
       "      <td>1372.0</td>\n",
       "      <td>4.5</td>\n",
       "      <td>NaN</td>\n",
       "      <td>15.0</td>\n",
       "      <td>[['Rooftop experience at Casa Amsterdam', 'A n...</td>\n",
       "    </tr>\n",
       "    <tr>\n",
       "      <th>1375</th>\n",
       "      <td>Stefs Bakery, Pastry &amp; More</td>\n",
       "      <td>Amsterdam</td>\n",
       "      <td>NaN</td>\n",
       "      <td>1378.0</td>\n",
       "      <td>5.0</td>\n",
       "      <td>NaN</td>\n",
       "      <td>12.0</td>\n",
       "      <td>[['A lunch after Rijksmuseum', 'Amazing and re...</td>\n",
       "    </tr>\n",
       "    <tr>\n",
       "      <th>1378</th>\n",
       "      <td>The Flying Dutchman</td>\n",
       "      <td>Amsterdam</td>\n",
       "      <td>NaN</td>\n",
       "      <td>1381.0</td>\n",
       "      <td>4.5</td>\n",
       "      <td>NaN</td>\n",
       "      <td>12.0</td>\n",
       "      <td>[['Dennis runs a good bar', 'Perfect place to ...</td>\n",
       "    </tr>\n",
       "    <tr>\n",
       "      <th>1394</th>\n",
       "      <td>Sky Lounge</td>\n",
       "      <td>Amsterdam</td>\n",
       "      <td>NaN</td>\n",
       "      <td>1397.0</td>\n",
       "      <td>4.0</td>\n",
       "      <td>NaN</td>\n",
       "      <td>24.0</td>\n",
       "      <td>[['Beautiful Bar and views', 'Afternoon Drinks...</td>\n",
       "    </tr>\n",
       "    <tr>\n",
       "      <th>1402</th>\n",
       "      <td>Baut</td>\n",
       "      <td>Amsterdam</td>\n",
       "      <td>NaN</td>\n",
       "      <td>1405.0</td>\n",
       "      <td>4.0</td>\n",
       "      <td>NaN</td>\n",
       "      <td>33.0</td>\n",
       "      <td>[['Good food in cool, open space off the usua....</td>\n",
       "    </tr>\n",
       "    <tr>\n",
       "      <th>1438</th>\n",
       "      <td>Vincent Kaas en Vlees</td>\n",
       "      <td>Amsterdam</td>\n",
       "      <td>NaN</td>\n",
       "      <td>1441.0</td>\n",
       "      <td>4.5</td>\n",
       "      <td>NaN</td>\n",
       "      <td>16.0</td>\n",
       "      <td>[['The best ever in Amsterdam!', 'LUNCH!!!'], ...</td>\n",
       "    </tr>\n",
       "    <tr>\n",
       "      <th>1445</th>\n",
       "      <td>Bagels &amp; Wraps</td>\n",
       "      <td>Amsterdam</td>\n",
       "      <td>NaN</td>\n",
       "      <td>1448.0</td>\n",
       "      <td>4.5</td>\n",
       "      <td>NaN</td>\n",
       "      <td>29.0</td>\n",
       "      <td>[['Perfect lunchtime snack', 'Yummy'], ['11/14...</td>\n",
       "    </tr>\n",
       "    <tr>\n",
       "      <th>1451</th>\n",
       "      <td>Goulash@Home</td>\n",
       "      <td>Amsterdam</td>\n",
       "      <td>NaN</td>\n",
       "      <td>1454.0</td>\n",
       "      <td>5.0</td>\n",
       "      <td>NaN</td>\n",
       "      <td>8.0</td>\n",
       "      <td>[['Best place in Amsterdam!', 'Real Goulash &lt;3...</td>\n",
       "    </tr>\n",
       "    <tr>\n",
       "      <th>1457</th>\n",
       "      <td>Burger Bar</td>\n",
       "      <td>Amsterdam</td>\n",
       "      <td>NaN</td>\n",
       "      <td>1460.0</td>\n",
       "      <td>4.5</td>\n",
       "      <td>NaN</td>\n",
       "      <td>42.0</td>\n",
       "      <td>[['Fresh!', 'Very good burger, friendly staff....</td>\n",
       "    </tr>\n",
       "  </tbody>\n",
       "</table>\n",
       "</div>"
      ],
      "text/plain": [
       "                             Name       City Cuisine Style  Ranking  Rating  \\\n",
       "175           Barney's Coffeeshop  Amsterdam           NaN    176.0     4.5   \n",
       "282                Excalibur Cafe  Amsterdam           NaN    283.0     4.5   \n",
       "708           Cafe De Kroegtijger  Amsterdam           NaN    709.0     5.0   \n",
       "831              In de Olofspoort  Amsterdam           NaN    833.0     4.5   \n",
       "849                    Vesper Bar  Amsterdam           NaN    851.0     4.5   \n",
       "1121                   Prinz Wolf  Amsterdam           NaN   1124.0     5.0   \n",
       "1141                   Anne & Max  Amsterdam           NaN   1144.0     4.5   \n",
       "1213         Little Delirium Cafe  Amsterdam           NaN   1216.0     4.5   \n",
       "1218                    Quies Tea  Amsterdam           NaN   1221.0     5.0   \n",
       "1331         Clubhouse Old Course  Amsterdam           NaN   1334.0     4.5   \n",
       "1342             Artisani Burgers  Amsterdam           NaN   1345.0     4.5   \n",
       "1369                         Nest  Amsterdam           NaN   1372.0     4.5   \n",
       "1375  Stefs Bakery, Pastry & More  Amsterdam           NaN   1378.0     5.0   \n",
       "1378          The Flying Dutchman  Amsterdam           NaN   1381.0     4.5   \n",
       "1394                   Sky Lounge  Amsterdam           NaN   1397.0     4.0   \n",
       "1402                         Baut  Amsterdam           NaN   1405.0     4.0   \n",
       "1438        Vincent Kaas en Vlees  Amsterdam           NaN   1441.0     4.5   \n",
       "1445               Bagels & Wraps  Amsterdam           NaN   1448.0     4.5   \n",
       "1451                 Goulash@Home  Amsterdam           NaN   1454.0     5.0   \n",
       "1457                   Burger Bar  Amsterdam           NaN   1460.0     4.5   \n",
       "\n",
       "     Price Range  Number of Reviews  \\\n",
       "175          NaN              498.0   \n",
       "282          NaN              204.0   \n",
       "708          NaN               23.0   \n",
       "831          NaN               63.0   \n",
       "849          NaN              110.0   \n",
       "1121         NaN               12.0   \n",
       "1141         NaN               25.0   \n",
       "1213         NaN               24.0   \n",
       "1218         NaN               13.0   \n",
       "1331         NaN               21.0   \n",
       "1342         NaN               22.0   \n",
       "1369         NaN               15.0   \n",
       "1375         NaN               12.0   \n",
       "1378         NaN               12.0   \n",
       "1394         NaN               24.0   \n",
       "1402         NaN               33.0   \n",
       "1438         NaN               16.0   \n",
       "1445         NaN               29.0   \n",
       "1451         NaN                8.0   \n",
       "1457         NaN               42.0   \n",
       "\n",
       "                                                Reviews  \n",
       "175   [['So good we went back 3 times', 'Polite staf...  \n",
       "282   [['Great bar', 'Old school metal music'], ['12...  \n",
       "708   [['Short break', 'Excellent place'], ['01/06/2...  \n",
       "831   [['Wonderful Experience !!', 'Absolutely the b...  \n",
       "849   [['Great spot', 'What a cocktail'], ['11/14/20...  \n",
       "1121  [['Delicious!', 'Last night in Amsterdam'], ['...  \n",
       "1141  [['Healthy Food with Good Design', 'New and tr...  \n",
       "1213  [['Great for a last round of beer', 'Best beer...  \n",
       "1218  [['Hotspot with delicious teas an amazing hea....  \n",
       "1331                        [['Oasis'], ['10/18/2016']]  \n",
       "1342  [['Brill Burgers', 'Great halaal burgers'], ['...  \n",
       "1369  [['Rooftop experience at Casa Amsterdam', 'A n...  \n",
       "1375  [['A lunch after Rijksmuseum', 'Amazing and re...  \n",
       "1378  [['Dennis runs a good bar', 'Perfect place to ...  \n",
       "1394  [['Beautiful Bar and views', 'Afternoon Drinks...  \n",
       "1402  [['Good food in cool, open space off the usua....  \n",
       "1438  [['The best ever in Amsterdam!', 'LUNCH!!!'], ...  \n",
       "1445  [['Perfect lunchtime snack', 'Yummy'], ['11/14...  \n",
       "1451  [['Best place in Amsterdam!', 'Real Goulash <3...  \n",
       "1457  [['Fresh!', 'Very good burger, friendly staff....  "
      ]
     },
     "execution_count": 25,
     "metadata": {},
     "output_type": "execute_result"
    }
   ],
   "source": [
    "df[df['Cuisine Style'].isna()].head(20)"
   ]
  },
  {
   "cell_type": "code",
   "execution_count": 26,
   "id": "d8327df7-4d1b-48ac-8edd-84e04eefb6ca",
   "metadata": {},
   "outputs": [],
   "source": [
    "combo_counts = df['Cuisine Style'].value_counts()"
   ]
  },
  {
   "cell_type": "code",
   "execution_count": 27,
   "id": "49a41460-e6b3-4c40-8e84-80a09bfe5f57",
   "metadata": {},
   "outputs": [
    {
     "data": {
      "text/plain": [
       "20971"
      ]
     },
     "execution_count": 27,
     "metadata": {},
     "output_type": "execute_result"
    }
   ],
   "source": [
    "df['Cuisine Style'].nunique()"
   ]
  },
  {
   "cell_type": "code",
   "execution_count": 28,
   "id": "f2acb9bd-9009-4818-82a9-8cb3ef77dd23",
   "metadata": {},
   "outputs": [
    {
     "name": "stdout",
     "output_type": "stream",
     "text": [
      "Cuisine Style\n",
      "['Italian']    3473\n",
      "['French']     2569\n",
      "['Spanish']    2130\n",
      "['Cafe']       1492\n",
      "['Pizza']      1198\n",
      "Name: count, dtype: int64\n"
     ]
    }
   ],
   "source": [
    "print(combo_counts[:5])"
   ]
  },
  {
   "cell_type": "code",
   "execution_count": 29,
   "id": "b496b46b-609d-4722-b9d3-2c9c73af34d7",
   "metadata": {},
   "outputs": [
    {
     "data": {
      "text/plain": [
       "array([1.0000e+00, 2.0000e+00, 3.0000e+00, ..., 1.6365e+04, 1.6438e+04,\n",
       "       1.0556e+04], shape=(16443,))"
      ]
     },
     "execution_count": 29,
     "metadata": {},
     "output_type": "execute_result"
    }
   ],
   "source": [
    "df['Ranking'].unique()"
   ]
  },
  {
   "cell_type": "code",
   "execution_count": 30,
   "id": "fc68b67b-ff47-4aef-afa8-9131cc3b80d2",
   "metadata": {},
   "outputs": [
    {
     "data": {
      "text/plain": [
       "Index(['Name', 'City', 'Cuisine Style', 'Ranking', 'Rating', 'Price Range',\n",
       "       'Number of Reviews', 'Reviews'],\n",
       "      dtype='object')"
      ]
     },
     "execution_count": 30,
     "metadata": {},
     "output_type": "execute_result"
    }
   ],
   "source": [
    "df.columns"
   ]
  },
  {
   "cell_type": "code",
   "execution_count": 31,
   "id": "ffbdd5b6-12b0-4764-9983-4315ce3b94dc",
   "metadata": {},
   "outputs": [],
   "source": [
    "df['Ranking_bin'] = pd.cut(\n",
    "    df['Ranking'],\n",
    "    bins=[0, 100, 500, 1000, 5000, 10000, 20000],\n",
    "    labels=['Top 100', '101-500', '501-1000', '1001-5000', '5001-10000', '10001+']\n",
    ")"
   ]
  },
  {
   "cell_type": "code",
   "execution_count": 32,
   "id": "16c90094-a002-4410-8125-d07b895fcacb",
   "metadata": {},
   "outputs": [
    {
     "data": {
      "image/png": "[encoded data removed]",
      "text/plain": [
       "<Figure size 1000x600 with 1 Axes>"
      ]
     },
     "metadata": {},
     "output_type": "display_data"
    }
   ],
   "source": [
    "plt.figure(figsize=(10,6))\n",
    "sns.countplot(x='Ranking_bin', data=df, order=df['Ranking_bin'].value_counts().index)\n",
    "\n",
    "plt.title(\"Countplot of Restaurant Rankings (Binned)\", fontsize=16)\n",
    "plt.xlabel(\"Ranking Range\")\n",
    "plt.ylabel(\"Number of Restaurants\")\n",
    "plt.show()"
   ]
  },
  {
   "cell_type": "code",
   "execution_count": 33,
   "id": "5625708f-6dda-4f7f-86fe-89424f7e9afa",
   "metadata": {},
   "outputs": [
    {
     "data": {
      "image/png": "[encoded data removed]",
      "text/plain": [
       "<Figure size 1000x600 with 1 Axes>"
      ]
     },
     "metadata": {},
     "output_type": "display_data"
    }
   ],
   "source": [
    "plt.figure(figsize=(10,6))\n",
    "sns.histplot(df['Ranking'], bins=50, kde=True)\n",
    "\n",
    "plt.title(\"Histogram of Restaurant Rankings\", fontsize=16)\n",
    "plt.xlabel(\"Ranking\")\n",
    "plt.ylabel(\"Number of Restaurants\")\n",
    "plt.show()"
   ]
  },
  {
   "cell_type": "code",
   "execution_count": 34,
   "id": "92aa5f91-9948-40b3-a92f-4baae393261f",
   "metadata": {},
   "outputs": [],
   "source": [
    "df = df.dropna(subset=['Reviews'])"
   ]
  },
  {
   "cell_type": "code",
   "execution_count": 35,
   "id": "ea2b0b1f-53c3-454a-9e1f-74571d2b8569",
   "metadata": {},
   "outputs": [
    {
     "data": {
      "text/html": [
       "<div>\n",
       "<style scoped>\n",
       "    .dataframe tbody tr th:only-of-type {\n",
       "        vertical-align: middle;\n",
       "    }\n",
       "\n",
       "    .dataframe tbody tr th {\n",
       "        vertical-align: top;\n",
       "    }\n",
       "\n",
       "    .dataframe thead th {\n",
       "        text-align: right;\n",
       "    }\n",
       "</style>\n",
       "<table border=\"1\" class=\"dataframe\">\n",
       "  <thead>\n",
       "    <tr style=\"text-align: right;\">\n",
       "      <th></th>\n",
       "      <th>Name</th>\n",
       "      <th>City</th>\n",
       "      <th>Cuisine Style</th>\n",
       "      <th>Ranking</th>\n",
       "      <th>Rating</th>\n",
       "      <th>Price Range</th>\n",
       "      <th>Number of Reviews</th>\n",
       "      <th>Reviews</th>\n",
       "      <th>Ranking_bin</th>\n",
       "    </tr>\n",
       "  </thead>\n",
       "  <tbody>\n",
       "    <tr>\n",
       "      <th>0</th>\n",
       "      <td>Martine of Martine's Table</td>\n",
       "      <td>Amsterdam</td>\n",
       "      <td>['French', 'Dutch', 'European']</td>\n",
       "      <td>1.0</td>\n",
       "      <td>5.0</td>\n",
       "      <td>$$ - $$$</td>\n",
       "      <td>136.0</td>\n",
       "      <td>[['Just like home', 'A Warm Welcome to Wintry ...</td>\n",
       "      <td>Top 100</td>\n",
       "    </tr>\n",
       "    <tr>\n",
       "      <th>1</th>\n",
       "      <td>De Silveren Spiegel</td>\n",
       "      <td>Amsterdam</td>\n",
       "      <td>['Dutch', 'European', 'Vegetarian Friendly', '...</td>\n",
       "      <td>2.0</td>\n",
       "      <td>4.5</td>\n",
       "      <td>$$$$</td>\n",
       "      <td>812.0</td>\n",
       "      <td>[['Great food and staff', 'just perfect'], ['0...</td>\n",
       "      <td>Top 100</td>\n",
       "    </tr>\n",
       "    <tr>\n",
       "      <th>2</th>\n",
       "      <td>La Rive</td>\n",
       "      <td>Amsterdam</td>\n",
       "      <td>['Mediterranean', 'French', 'International', '...</td>\n",
       "      <td>3.0</td>\n",
       "      <td>4.5</td>\n",
       "      <td>$$$$</td>\n",
       "      <td>567.0</td>\n",
       "      <td>[['Satisfaction', 'Delicious old school restau...</td>\n",
       "      <td>Top 100</td>\n",
       "    </tr>\n",
       "    <tr>\n",
       "      <th>3</th>\n",
       "      <td>Vinkeles</td>\n",
       "      <td>Amsterdam</td>\n",
       "      <td>['French', 'European', 'International', 'Conte...</td>\n",
       "      <td>4.0</td>\n",
       "      <td>5.0</td>\n",
       "      <td>$$$$</td>\n",
       "      <td>564.0</td>\n",
       "      <td>[['True five star dinner', 'A superb evening o...</td>\n",
       "      <td>Top 100</td>\n",
       "    </tr>\n",
       "    <tr>\n",
       "      <th>4</th>\n",
       "      <td>Librije's Zusje Amsterdam</td>\n",
       "      <td>Amsterdam</td>\n",
       "      <td>['Dutch', 'European', 'International', 'Vegeta...</td>\n",
       "      <td>5.0</td>\n",
       "      <td>4.5</td>\n",
       "      <td>$$$$</td>\n",
       "      <td>316.0</td>\n",
       "      <td>[['Best meal.... EVER', 'super food experience...</td>\n",
       "      <td>Top 100</td>\n",
       "    </tr>\n",
       "  </tbody>\n",
       "</table>\n",
       "</div>"
      ],
      "text/plain": [
       "                         Name       City  \\\n",
       "0  Martine of Martine's Table  Amsterdam   \n",
       "1         De Silveren Spiegel  Amsterdam   \n",
       "2                     La Rive  Amsterdam   \n",
       "3                    Vinkeles  Amsterdam   \n",
       "4   Librije's Zusje Amsterdam  Amsterdam   \n",
       "\n",
       "                                       Cuisine Style  Ranking  Rating  \\\n",
       "0                    ['French', 'Dutch', 'European']      1.0     5.0   \n",
       "1  ['Dutch', 'European', 'Vegetarian Friendly', '...      2.0     4.5   \n",
       "2  ['Mediterranean', 'French', 'International', '...      3.0     4.5   \n",
       "3  ['French', 'European', 'International', 'Conte...      4.0     5.0   \n",
       "4  ['Dutch', 'European', 'International', 'Vegeta...      5.0     4.5   \n",
       "\n",
       "  Price Range  Number of Reviews  \\\n",
       "0    $$ - $$$              136.0   \n",
       "1        $$$$              812.0   \n",
       "2        $$$$              567.0   \n",
       "3        $$$$              564.0   \n",
       "4        $$$$              316.0   \n",
       "\n",
       "                                             Reviews Ranking_bin  \n",
       "0  [['Just like home', 'A Warm Welcome to Wintry ...     Top 100  \n",
       "1  [['Great food and staff', 'just perfect'], ['0...     Top 100  \n",
       "2  [['Satisfaction', 'Delicious old school restau...     Top 100  \n",
       "3  [['True five star dinner', 'A superb evening o...     Top 100  \n",
       "4  [['Best meal.... EVER', 'super food experience...     Top 100  "
      ]
     },
     "execution_count": 35,
     "metadata": {},
     "output_type": "execute_result"
    }
   ],
   "source": [
    "df.head()"
   ]
  },
  {
   "cell_type": "code",
   "execution_count": 36,
   "id": "977e0649-efa9-4025-bec0-fe4c2545f310",
   "metadata": {},
   "outputs": [
    {
     "data": {
      "text/plain": [
       "Name                     0\n",
       "City                     0\n",
       "Cuisine Style        26851\n",
       "Ranking                164\n",
       "Rating                  19\n",
       "Price Range          40430\n",
       "Number of Reviews     7729\n",
       "Reviews                  0\n",
       "Ranking_bin            164\n",
       "dtype: int64"
      ]
     },
     "execution_count": 36,
     "metadata": {},
     "output_type": "execute_result"
    }
   ],
   "source": [
    "df.isnull().sum()"
   ]
  },
  {
   "cell_type": "code",
   "execution_count": 37,
   "id": "d4d43220-7796-4ac1-abc2-cafad5f59e49",
   "metadata": {},
   "outputs": [
    {
     "data": {
      "text/plain": [
       "Reviews\n",
       "[[], []]                                                                                    19094\n",
       "[['Great place'], ['09/03/2016']]                                                               2\n",
       "[['Delicious'], ['06/17/2017']]                                                                 2\n",
       "[['A typical italian restaurant pizzeria!'], ['03/28/2017']]                                    2\n",
       "[['Bad service'], ['02/13/2017']]                                                               2\n",
       "[['Nice'], ['04/28/2015']]                                                                      2\n",
       "[['Not bad'], ['01/31/2017']]                                                                   2\n",
       "[['Perfect service', 'Visited the location in Lavapies.'], ['12/16/2017', '11/30/2017']]        2\n",
       "[['Arroz & Tiramisú!', 'Good restaurant in Madrid'], ['11/11/2017', '04/19/2017']]              2\n",
       "[['Very good all around', 'Our first Madrid restaurant'], ['11/20/2017', '10/11/2017']]         2\n",
       "Name: count, dtype: int64"
      ]
     },
     "execution_count": 37,
     "metadata": {},
     "output_type": "execute_result"
    }
   ],
   "source": [
    "df['Reviews'].value_counts()[:10]"
   ]
  },
  {
   "cell_type": "code",
   "execution_count": 38,
   "id": "a838d915-ddc8-4938-acc9-2fdf288cb186",
   "metadata": {},
   "outputs": [],
   "source": [
    "def safe_eval(x):\n",
    "    if isinstance(x, str):\n",
    "        try:\n",
    "            return ast.literal_eval(x)\n",
    "        except (ValueError, SyntaxError):\n",
    "            return []   \n",
    "    return x if isinstance(x, list) else []"
   ]
  },
  {
   "cell_type": "code",
   "execution_count": 39,
   "id": "65e249b2-4bd1-4a55-9e78-dcc11e5521ee",
   "metadata": {},
   "outputs": [],
   "source": [
    "df['Clean_Reviews'] = df['Reviews'].apply(safe_eval)"
   ]
  },
  {
   "cell_type": "code",
   "execution_count": 40,
   "id": "0d2803c5-7ad0-478f-a6b7-c7445b64b176",
   "metadata": {
    "scrolled": true
   },
   "outputs": [
    {
     "data": {
      "text/plain": [
       "[['Just like home', 'A Warm Welcome to Wintry Amsterdam'],\n",
       " ['01/03/2018', '01/01/2018']]"
      ]
     },
     "execution_count": 40,
     "metadata": {},
     "output_type": "execute_result"
    }
   ],
   "source": [
    "df['Clean_Reviews'][0]"
   ]
  },
  {
   "cell_type": "code",
   "execution_count": 41,
   "id": "353eda23-b174-47c5-b161-50fa334f5e79",
   "metadata": {},
   "outputs": [],
   "source": [
    "def flatten_and_clean_text(data):\n",
    "   \n",
    "    if isinstance(data, list):\n",
    "        \n",
    "        flat_list = [item for sublist in data for item in sublist]\n",
    "        \n",
    "        full_string = ' '.join(str(item) for item in flat_list)\n",
    "    else:\n",
    "      \n",
    "        full_string = str(data)\n",
    "    \n",
    "    date_pattern = r'\\b\\d{1,4}[-/. ]\\d{1,2}[-/. ]\\d{2,4}\\b'\n",
    "    year_pattern = r'\\b\\d{4}\\b'\n",
    "    \n",
    "   \n",
    "    clean_text = re.sub(date_pattern, '', full_string)\n",
    "    clean_text = re.sub(year_pattern, '', clean_text)\n",
    "    \n",
    "    # Remove any extra spaces that might have been created\n",
    "    clean_text = re.sub(r'\\s+', ' ', clean_text).strip()\n",
    "    \n",
    "    return clean_text"
   ]
  },
  {
   "cell_type": "code",
   "execution_count": 42,
   "id": "10e94c5b-4bc9-46cb-bb0a-15b0002f5775",
   "metadata": {},
   "outputs": [],
   "source": [
    "df['Reviews_cleaned'] = df['Clean_Reviews'].apply(flatten_and_clean_text)"
   ]
  },
  {
   "cell_type": "code",
   "execution_count": 43,
   "id": "e62eef6e-2430-46d6-ad3a-04bced5364f1",
   "metadata": {},
   "outputs": [
    {
     "data": {
      "text/html": [
       "<div>\n",
       "<style scoped>\n",
       "    .dataframe tbody tr th:only-of-type {\n",
       "        vertical-align: middle;\n",
       "    }\n",
       "\n",
       "    .dataframe tbody tr th {\n",
       "        vertical-align: top;\n",
       "    }\n",
       "\n",
       "    .dataframe thead th {\n",
       "        text-align: right;\n",
       "    }\n",
       "</style>\n",
       "<table border=\"1\" class=\"dataframe\">\n",
       "  <thead>\n",
       "    <tr style=\"text-align: right;\">\n",
       "      <th></th>\n",
       "      <th>Name</th>\n",
       "      <th>City</th>\n",
       "      <th>Cuisine Style</th>\n",
       "      <th>Ranking</th>\n",
       "      <th>Rating</th>\n",
       "      <th>Price Range</th>\n",
       "      <th>Number of Reviews</th>\n",
       "      <th>Reviews</th>\n",
       "      <th>Ranking_bin</th>\n",
       "      <th>Clean_Reviews</th>\n",
       "      <th>Reviews_cleaned</th>\n",
       "    </tr>\n",
       "  </thead>\n",
       "  <tbody>\n",
       "    <tr>\n",
       "      <th>0</th>\n",
       "      <td>Martine of Martine's Table</td>\n",
       "      <td>Amsterdam</td>\n",
       "      <td>['French', 'Dutch', 'European']</td>\n",
       "      <td>1.0</td>\n",
       "      <td>5.0</td>\n",
       "      <td>$$ - $$$</td>\n",
       "      <td>136.0</td>\n",
       "      <td>[['Just like home', 'A Warm Welcome to Wintry ...</td>\n",
       "      <td>Top 100</td>\n",
       "      <td>[[Just like home, A Warm Welcome to Wintry Ams...</td>\n",
       "      <td>Just like home A Warm Welcome to Wintry Amsterdam</td>\n",
       "    </tr>\n",
       "    <tr>\n",
       "      <th>1</th>\n",
       "      <td>De Silveren Spiegel</td>\n",
       "      <td>Amsterdam</td>\n",
       "      <td>['Dutch', 'European', 'Vegetarian Friendly', '...</td>\n",
       "      <td>2.0</td>\n",
       "      <td>4.5</td>\n",
       "      <td>$$$$</td>\n",
       "      <td>812.0</td>\n",
       "      <td>[['Great food and staff', 'just perfect'], ['0...</td>\n",
       "      <td>Top 100</td>\n",
       "      <td>[[Great food and staff, just perfect], [01/06/...</td>\n",
       "      <td>Great food and staff just perfect</td>\n",
       "    </tr>\n",
       "    <tr>\n",
       "      <th>2</th>\n",
       "      <td>La Rive</td>\n",
       "      <td>Amsterdam</td>\n",
       "      <td>['Mediterranean', 'French', 'International', '...</td>\n",
       "      <td>3.0</td>\n",
       "      <td>4.5</td>\n",
       "      <td>$$$$</td>\n",
       "      <td>567.0</td>\n",
       "      <td>[['Satisfaction', 'Delicious old school restau...</td>\n",
       "      <td>Top 100</td>\n",
       "      <td>[[Satisfaction, Delicious old school restauran...</td>\n",
       "      <td>Satisfaction Delicious old school restaurant</td>\n",
       "    </tr>\n",
       "  </tbody>\n",
       "</table>\n",
       "</div>"
      ],
      "text/plain": [
       "                         Name       City  \\\n",
       "0  Martine of Martine's Table  Amsterdam   \n",
       "1         De Silveren Spiegel  Amsterdam   \n",
       "2                     La Rive  Amsterdam   \n",
       "\n",
       "                                       Cuisine Style  Ranking  Rating  \\\n",
       "0                    ['French', 'Dutch', 'European']      1.0     5.0   \n",
       "1  ['Dutch', 'European', 'Vegetarian Friendly', '...      2.0     4.5   \n",
       "2  ['Mediterranean', 'French', 'International', '...      3.0     4.5   \n",
       "\n",
       "  Price Range  Number of Reviews  \\\n",
       "0    $$ - $$$              136.0   \n",
       "1        $$$$              812.0   \n",
       "2        $$$$              567.0   \n",
       "\n",
       "                                             Reviews Ranking_bin  \\\n",
       "0  [['Just like home', 'A Warm Welcome to Wintry ...     Top 100   \n",
       "1  [['Great food and staff', 'just perfect'], ['0...     Top 100   \n",
       "2  [['Satisfaction', 'Delicious old school restau...     Top 100   \n",
       "\n",
       "                                       Clean_Reviews  \\\n",
       "0  [[Just like home, A Warm Welcome to Wintry Ams...   \n",
       "1  [[Great food and staff, just perfect], [01/06/...   \n",
       "2  [[Satisfaction, Delicious old school restauran...   \n",
       "\n",
       "                                     Reviews_cleaned  \n",
       "0  Just like home A Warm Welcome to Wintry Amsterdam  \n",
       "1                  Great food and staff just perfect  \n",
       "2       Satisfaction Delicious old school restaurant  "
      ]
     },
     "execution_count": 43,
     "metadata": {},
     "output_type": "execute_result"
    }
   ],
   "source": [
    "df.head(3)"
   ]
  },
  {
   "cell_type": "code",
   "execution_count": 44,
   "id": "2243dcb6-9639-4e10-9579-936d65787298",
   "metadata": {},
   "outputs": [
    {
     "data": {
      "text/plain": [
       "'Just like home A Warm Welcome to Wintry Amsterdam'"
      ]
     },
     "execution_count": 44,
     "metadata": {},
     "output_type": "execute_result"
    }
   ],
   "source": [
    "df['Reviews_cleaned'][0]"
   ]
  },
  {
   "cell_type": "code",
   "execution_count": 45,
   "id": "b3efb8ff-4a6a-4efa-a1f0-08bc6aedbd31",
   "metadata": {},
   "outputs": [
    {
     "data": {
      "text/plain": [
       "\"['French', 'Dutch', 'European']\""
      ]
     },
     "execution_count": 45,
     "metadata": {},
     "output_type": "execute_result"
    }
   ],
   "source": [
    "df['Cuisine Style'][0]"
   ]
  },
  {
   "cell_type": "code",
   "execution_count": 47,
   "id": "209e7813-d0ed-4749-b89e-1c222046b553",
   "metadata": {},
   "outputs": [],
   "source": [
    "def clean_cuisine(cuisine_str):\n",
    "    if isinstance(cuisine_str, str):\n",
    "        try:\n",
    "            cuisines = ast.literal_eval(cuisine_str) \n",
    "            if isinstance(cuisines, list):\n",
    "                return \" \".join(cuisines) \n",
    "        except (ValueError, SyntaxError):\n",
    "            return \"\"\n",
    "    return \"\""
   ]
  },
  {
   "cell_type": "code",
   "execution_count": 48,
   "id": "889b38fb-e041-455a-b9d3-8940f6108ba5",
   "metadata": {},
   "outputs": [],
   "source": [
    "df['Clean_Cuisine'] = df['Cuisine Style'].apply(clean_cuisine)"
   ]
  },
  {
   "cell_type": "code",
   "execution_count": 49,
   "id": "d6360543-34d0-4a5e-8aa4-df764980c78b",
   "metadata": {},
   "outputs": [
    {
     "data": {
      "text/plain": [
       "'French Dutch European'"
      ]
     },
     "execution_count": 49,
     "metadata": {},
     "output_type": "execute_result"
    }
   ],
   "source": [
    "df['Clean_Cuisine'][0]"
   ]
  },
  {
   "cell_type": "code",
   "execution_count": 50,
   "id": "dc483b8e-2361-4e3b-b869-1ec6735781b7",
   "metadata": {},
   "outputs": [
    {
     "data": {
      "text/html": [
       "<div>\n",
       "<style scoped>\n",
       "    .dataframe tbody tr th:only-of-type {\n",
       "        vertical-align: middle;\n",
       "    }\n",
       "\n",
       "    .dataframe tbody tr th {\n",
       "        vertical-align: top;\n",
       "    }\n",
       "\n",
       "    .dataframe thead th {\n",
       "        text-align: right;\n",
       "    }\n",
       "</style>\n",
       "<table border=\"1\" class=\"dataframe\">\n",
       "  <thead>\n",
       "    <tr style=\"text-align: right;\">\n",
       "      <th></th>\n",
       "      <th>Name</th>\n",
       "      <th>City</th>\n",
       "      <th>Cuisine Style</th>\n",
       "      <th>Ranking</th>\n",
       "      <th>Rating</th>\n",
       "      <th>Price Range</th>\n",
       "      <th>Number of Reviews</th>\n",
       "      <th>Reviews</th>\n",
       "      <th>Ranking_bin</th>\n",
       "      <th>Clean_Reviews</th>\n",
       "      <th>Reviews_cleaned</th>\n",
       "      <th>Clean_Cuisine</th>\n",
       "    </tr>\n",
       "  </thead>\n",
       "  <tbody>\n",
       "    <tr>\n",
       "      <th>0</th>\n",
       "      <td>Martine of Martine's Table</td>\n",
       "      <td>Amsterdam</td>\n",
       "      <td>['French', 'Dutch', 'European']</td>\n",
       "      <td>1.0</td>\n",
       "      <td>5.0</td>\n",
       "      <td>$$ - $$$</td>\n",
       "      <td>136.0</td>\n",
       "      <td>[['Just like home', 'A Warm Welcome to Wintry ...</td>\n",
       "      <td>Top 100</td>\n",
       "      <td>[[Just like home, A Warm Welcome to Wintry Ams...</td>\n",
       "      <td>Just like home A Warm Welcome to Wintry Amsterdam</td>\n",
       "      <td>French Dutch European</td>\n",
       "    </tr>\n",
       "    <tr>\n",
       "      <th>1</th>\n",
       "      <td>De Silveren Spiegel</td>\n",
       "      <td>Amsterdam</td>\n",
       "      <td>['Dutch', 'European', 'Vegetarian Friendly', '...</td>\n",
       "      <td>2.0</td>\n",
       "      <td>4.5</td>\n",
       "      <td>$$$$</td>\n",
       "      <td>812.0</td>\n",
       "      <td>[['Great food and staff', 'just perfect'], ['0...</td>\n",
       "      <td>Top 100</td>\n",
       "      <td>[[Great food and staff, just perfect], [01/06/...</td>\n",
       "      <td>Great food and staff just perfect</td>\n",
       "      <td>Dutch European Vegetarian Friendly Gluten Free...</td>\n",
       "    </tr>\n",
       "    <tr>\n",
       "      <th>2</th>\n",
       "      <td>La Rive</td>\n",
       "      <td>Amsterdam</td>\n",
       "      <td>['Mediterranean', 'French', 'International', '...</td>\n",
       "      <td>3.0</td>\n",
       "      <td>4.5</td>\n",
       "      <td>$$$$</td>\n",
       "      <td>567.0</td>\n",
       "      <td>[['Satisfaction', 'Delicious old school restau...</td>\n",
       "      <td>Top 100</td>\n",
       "      <td>[[Satisfaction, Delicious old school restauran...</td>\n",
       "      <td>Satisfaction Delicious old school restaurant</td>\n",
       "      <td>Mediterranean French International European Ve...</td>\n",
       "    </tr>\n",
       "  </tbody>\n",
       "</table>\n",
       "</div>"
      ],
      "text/plain": [
       "                         Name       City  \\\n",
       "0  Martine of Martine's Table  Amsterdam   \n",
       "1         De Silveren Spiegel  Amsterdam   \n",
       "2                     La Rive  Amsterdam   \n",
       "\n",
       "                                       Cuisine Style  Ranking  Rating  \\\n",
       "0                    ['French', 'Dutch', 'European']      1.0     5.0   \n",
       "1  ['Dutch', 'European', 'Vegetarian Friendly', '...      2.0     4.5   \n",
       "2  ['Mediterranean', 'French', 'International', '...      3.0     4.5   \n",
       "\n",
       "  Price Range  Number of Reviews  \\\n",
       "0    $$ - $$$              136.0   \n",
       "1        $$$$              812.0   \n",
       "2        $$$$              567.0   \n",
       "\n",
       "                                             Reviews Ranking_bin  \\\n",
       "0  [['Just like home', 'A Warm Welcome to Wintry ...     Top 100   \n",
       "1  [['Great food and staff', 'just perfect'], ['0...     Top 100   \n",
       "2  [['Satisfaction', 'Delicious old school restau...     Top 100   \n",
       "\n",
       "                                       Clean_Reviews  \\\n",
       "0  [[Just like home, A Warm Welcome to Wintry Ams...   \n",
       "1  [[Great food and staff, just perfect], [01/06/...   \n",
       "2  [[Satisfaction, Delicious old school restauran...   \n",
       "\n",
       "                                     Reviews_cleaned  \\\n",
       "0  Just like home A Warm Welcome to Wintry Amsterdam   \n",
       "1                  Great food and staff just perfect   \n",
       "2       Satisfaction Delicious old school restaurant   \n",
       "\n",
       "                                       Clean_Cuisine  \n",
       "0                              French Dutch European  \n",
       "1  Dutch European Vegetarian Friendly Gluten Free...  \n",
       "2  Mediterranean French International European Ve...  "
      ]
     },
     "execution_count": 50,
     "metadata": {},
     "output_type": "execute_result"
    }
   ],
   "source": [
    "df.head(3)"
   ]
  },
  {
   "cell_type": "code",
   "execution_count": 51,
   "id": "74bb5af7-ab69-4d67-8562-0684496b192b",
   "metadata": {},
   "outputs": [
    {
     "data": {
      "text/plain": [
       "Name                     0\n",
       "City                     0\n",
       "Cuisine Style        26851\n",
       "Ranking                164\n",
       "Rating                  19\n",
       "Price Range          40430\n",
       "Number of Reviews     7729\n",
       "Reviews                  0\n",
       "Ranking_bin            164\n",
       "Clean_Reviews            0\n",
       "Reviews_cleaned          0\n",
       "Clean_Cuisine            0\n",
       "dtype: int64"
      ]
     },
     "execution_count": 51,
     "metadata": {},
     "output_type": "execute_result"
    }
   ],
   "source": [
    "df.isnull().sum()"
   ]
  },
  {
   "cell_type": "code",
   "execution_count": 52,
   "id": "b4f5d24d-30cd-4fd1-a727-b0d42f0c7a38",
   "metadata": {},
   "outputs": [],
   "source": [
    "df = df.dropna(subset=['Cuisine Style'])"
   ]
  },
  {
   "cell_type": "code",
   "execution_count": 53,
   "id": "44d700a3-5701-4ffd-96dd-896e600a2f00",
   "metadata": {},
   "outputs": [
    {
     "data": {
      "text/plain": [
       "Name                     0\n",
       "City                     0\n",
       "Cuisine Style            0\n",
       "Ranking                 92\n",
       "Rating                  13\n",
       "Price Range          13579\n",
       "Number of Reviews     3555\n",
       "Reviews                  0\n",
       "Ranking_bin             92\n",
       "Clean_Reviews            0\n",
       "Reviews_cleaned          0\n",
       "Clean_Cuisine            0\n",
       "dtype: int64"
      ]
     },
     "execution_count": 53,
     "metadata": {},
     "output_type": "execute_result"
    }
   ],
   "source": [
    "df.isnull().sum()"
   ]
  },
  {
   "cell_type": "code",
   "execution_count": 54,
   "id": "dbc3ef06-4600-43ec-abad-270f8d798124",
   "metadata": {},
   "outputs": [],
   "source": [
    "df = df.dropna(subset=['Rating'])"
   ]
  },
  {
   "cell_type": "code",
   "execution_count": 55,
   "id": "893a0ee5-aaf7-44de-b94b-161fabbaab4a",
   "metadata": {},
   "outputs": [
    {
     "data": {
      "text/plain": [
       "89047"
      ]
     },
     "execution_count": 55,
     "metadata": {},
     "output_type": "execute_result"
    }
   ],
   "source": [
    "len(df)"
   ]
  },
  {
   "cell_type": "code",
   "execution_count": 56,
   "id": "7a0ea1ae-70d4-48d1-833c-9b3141411b79",
   "metadata": {},
   "outputs": [],
   "source": [
    "city_groups = {\n",
    "    # Standalone big cities\n",
    "    \"London\": \"London\",\n",
    "    \"Paris\": \"Paris\",\n",
    "    \"Madrid\": \"Spain\",\n",
    "    \"Barcelona\": \"Spain\",\n",
    "    \"Berlin\": \"Berlin\",\n",
    "    \"Milan\": \"Italy\",\n",
    "    \"Rome\": \"Italy\",\n",
    "    \n",
    "    # Central Europe\n",
    "    \"Prague\": \"Central Europe\",\n",
    "    \"Vienna\": \"Central Europe\",\n",
    "    \"Budapest\": \"Central Europe\",\n",
    "    \"Warsaw\": \"Central Europe\",\n",
    "    \"Krakow\": \"Central Europe\",\n",
    "    \"Bratislava\": \"Central Europe\",\n",
    "    \n",
    "    # Iberian Peninsula (Portugal + smaller Spain)\n",
    "    \"Lisbon\": \"Portugal/Spain Smaller\",\n",
    "    \"Oporto\": \"Portugal/Spain Smaller\",\n",
    "    \n",
    "    # Benelux\n",
    "    \"Amsterdam\": \"Benelux\",\n",
    "    \"Brussels\": \"Benelux\",\n",
    "    \"Luxembourg\": \"Benelux\",\n",
    "    \n",
    "    # Germany (beyond Berlin standalone)\n",
    "    \"Hamburg\": \"Germany Smaller\",\n",
    "    \"Munich\": \"Germany Smaller\",\n",
    "    \n",
    "    # France Smaller\n",
    "    \"Lyon\": \"France Smaller\",\n",
    "    \n",
    "    # Nordics\n",
    "    \"Stockholm\": \"Nordics\",\n",
    "    \"Copenhagen\": \"Nordics\",\n",
    "    \"Helsinki\": \"Nordics\",\n",
    "    \"Oslo\": \"Nordics\",\n",
    "    \n",
    "    # UK/Ireland\n",
    "    \"Edinburgh\": \"UK/Ireland\",\n",
    "    \"Dublin\": \"UK/Ireland\",\n",
    "    \n",
    "    # Switzerland\n",
    "    \"Zurich\": \"Switzerland\",\n",
    "    \"Geneva\": \"Switzerland\",\n",
    "    \n",
    "    # Southern Europe\n",
    "    \"Athens\": \"Southern Europe\",\n",
    "    \n",
    "    # Balkans\n",
    "    \"Ljubljana\": \"Balkans\",\n",
    "}\n",
    "\n",
    "\n",
    "df[\"City_Group\"] = df[\"City\"].map(city_groups)"
   ]
  },
  {
   "cell_type": "code",
   "execution_count": 57,
   "id": "4814ba1c-b7b1-4ada-96a8-57cc3fea76e3",
   "metadata": {},
   "outputs": [
    {
     "data": {
      "text/plain": [
       "City_Group\n",
       "London                    13603\n",
       "Spain                     12041\n",
       "Central Europe            11076\n",
       "Paris                     10949\n",
       "Italy                      9864\n",
       "Benelux                    5612\n",
       "Nordics                    4994\n",
       "Berlin                     4292\n",
       "Portugal/Spain Smaller     3946\n",
       "Germany Smaller            3509\n",
       "UK/Ireland                 3202\n",
       "Switzerland                2382\n",
       "France Smaller             1761\n",
       "Southern Europe            1437\n",
       "Balkans                     379\n",
       "Name: count, dtype: int64"
      ]
     },
     "execution_count": 57,
     "metadata": {},
     "output_type": "execute_result"
    }
   ],
   "source": [
    "df['City_Group'].value_counts()"
   ]
  },
  {
   "cell_type": "code",
   "execution_count": 58,
   "id": "739caa97-15ff-4809-ab26-64d15594a85e",
   "metadata": {},
   "outputs": [
    {
     "data": {
      "text/html": [
       "<div>\n",
       "<style scoped>\n",
       "    .dataframe tbody tr th:only-of-type {\n",
       "        vertical-align: middle;\n",
       "    }\n",
       "\n",
       "    .dataframe tbody tr th {\n",
       "        vertical-align: top;\n",
       "    }\n",
       "\n",
       "    .dataframe thead th {\n",
       "        text-align: right;\n",
       "    }\n",
       "</style>\n",
       "<table border=\"1\" class=\"dataframe\">\n",
       "  <thead>\n",
       "    <tr style=\"text-align: right;\">\n",
       "      <th></th>\n",
       "      <th>Name</th>\n",
       "      <th>City</th>\n",
       "      <th>Cuisine Style</th>\n",
       "      <th>Ranking</th>\n",
       "      <th>Rating</th>\n",
       "      <th>Price Range</th>\n",
       "      <th>Number of Reviews</th>\n",
       "      <th>Reviews</th>\n",
       "      <th>Ranking_bin</th>\n",
       "      <th>Clean_Reviews</th>\n",
       "      <th>Reviews_cleaned</th>\n",
       "      <th>Clean_Cuisine</th>\n",
       "      <th>City_Group</th>\n",
       "    </tr>\n",
       "  </thead>\n",
       "  <tbody>\n",
       "    <tr>\n",
       "      <th>0</th>\n",
       "      <td>Martine of Martine's Table</td>\n",
       "      <td>Amsterdam</td>\n",
       "      <td>['French', 'Dutch', 'European']</td>\n",
       "      <td>1.0</td>\n",
       "      <td>5.0</td>\n",
       "      <td>$$ - $$$</td>\n",
       "      <td>136.0</td>\n",
       "      <td>[['Just like home', 'A Warm Welcome to Wintry ...</td>\n",
       "      <td>Top 100</td>\n",
       "      <td>[[Just like home, A Warm Welcome to Wintry Ams...</td>\n",
       "      <td>Just like home A Warm Welcome to Wintry Amsterdam</td>\n",
       "      <td>French Dutch European</td>\n",
       "      <td>Benelux</td>\n",
       "    </tr>\n",
       "    <tr>\n",
       "      <th>1</th>\n",
       "      <td>De Silveren Spiegel</td>\n",
       "      <td>Amsterdam</td>\n",
       "      <td>['Dutch', 'European', 'Vegetarian Friendly', '...</td>\n",
       "      <td>2.0</td>\n",
       "      <td>4.5</td>\n",
       "      <td>$$$$</td>\n",
       "      <td>812.0</td>\n",
       "      <td>[['Great food and staff', 'just perfect'], ['0...</td>\n",
       "      <td>Top 100</td>\n",
       "      <td>[[Great food and staff, just perfect], [01/06/...</td>\n",
       "      <td>Great food and staff just perfect</td>\n",
       "      <td>Dutch European Vegetarian Friendly Gluten Free...</td>\n",
       "      <td>Benelux</td>\n",
       "    </tr>\n",
       "    <tr>\n",
       "      <th>2</th>\n",
       "      <td>La Rive</td>\n",
       "      <td>Amsterdam</td>\n",
       "      <td>['Mediterranean', 'French', 'International', '...</td>\n",
       "      <td>3.0</td>\n",
       "      <td>4.5</td>\n",
       "      <td>$$$$</td>\n",
       "      <td>567.0</td>\n",
       "      <td>[['Satisfaction', 'Delicious old school restau...</td>\n",
       "      <td>Top 100</td>\n",
       "      <td>[[Satisfaction, Delicious old school restauran...</td>\n",
       "      <td>Satisfaction Delicious old school restaurant</td>\n",
       "      <td>Mediterranean French International European Ve...</td>\n",
       "      <td>Benelux</td>\n",
       "    </tr>\n",
       "    <tr>\n",
       "      <th>3</th>\n",
       "      <td>Vinkeles</td>\n",
       "      <td>Amsterdam</td>\n",
       "      <td>['French', 'European', 'International', 'Conte...</td>\n",
       "      <td>4.0</td>\n",
       "      <td>5.0</td>\n",
       "      <td>$$$$</td>\n",
       "      <td>564.0</td>\n",
       "      <td>[['True five star dinner', 'A superb evening o...</td>\n",
       "      <td>Top 100</td>\n",
       "      <td>[[True five star dinner, A superb evening of f...</td>\n",
       "      <td>True five star dinner A superb evening of fine...</td>\n",
       "      <td>French European International Contemporary Veg...</td>\n",
       "      <td>Benelux</td>\n",
       "    </tr>\n",
       "    <tr>\n",
       "      <th>4</th>\n",
       "      <td>Librije's Zusje Amsterdam</td>\n",
       "      <td>Amsterdam</td>\n",
       "      <td>['Dutch', 'European', 'International', 'Vegeta...</td>\n",
       "      <td>5.0</td>\n",
       "      <td>4.5</td>\n",
       "      <td>$$$$</td>\n",
       "      <td>316.0</td>\n",
       "      <td>[['Best meal.... EVER', 'super food experience...</td>\n",
       "      <td>Top 100</td>\n",
       "      <td>[[Best meal.... EVER, super food experience], ...</td>\n",
       "      <td>Best meal.... EVER super food experience</td>\n",
       "      <td>Dutch European International Vegetarian Friend...</td>\n",
       "      <td>Benelux</td>\n",
       "    </tr>\n",
       "  </tbody>\n",
       "</table>\n",
       "</div>"
      ],
      "text/plain": [
       "                         Name       City  \\\n",
       "0  Martine of Martine's Table  Amsterdam   \n",
       "1         De Silveren Spiegel  Amsterdam   \n",
       "2                     La Rive  Amsterdam   \n",
       "3                    Vinkeles  Amsterdam   \n",
       "4   Librije's Zusje Amsterdam  Amsterdam   \n",
       "\n",
       "                                       Cuisine Style  Ranking  Rating  \\\n",
       "0                    ['French', 'Dutch', 'European']      1.0     5.0   \n",
       "1  ['Dutch', 'European', 'Vegetarian Friendly', '...      2.0     4.5   \n",
       "2  ['Mediterranean', 'French', 'International', '...      3.0     4.5   \n",
       "3  ['French', 'European', 'International', 'Conte...      4.0     5.0   \n",
       "4  ['Dutch', 'European', 'International', 'Vegeta...      5.0     4.5   \n",
       "\n",
       "  Price Range  Number of Reviews  \\\n",
       "0    $$ - $$$              136.0   \n",
       "1        $$$$              812.0   \n",
       "2        $$$$              567.0   \n",
       "3        $$$$              564.0   \n",
       "4        $$$$              316.0   \n",
       "\n",
       "                                             Reviews Ranking_bin  \\\n",
       "0  [['Just like home', 'A Warm Welcome to Wintry ...     Top 100   \n",
       "1  [['Great food and staff', 'just perfect'], ['0...     Top 100   \n",
       "2  [['Satisfaction', 'Delicious old school restau...     Top 100   \n",
       "3  [['True five star dinner', 'A superb evening o...     Top 100   \n",
       "4  [['Best meal.... EVER', 'super food experience...     Top 100   \n",
       "\n",
       "                                       Clean_Reviews  \\\n",
       "0  [[Just like home, A Warm Welcome to Wintry Ams...   \n",
       "1  [[Great food and staff, just perfect], [01/06/...   \n",
       "2  [[Satisfaction, Delicious old school restauran...   \n",
       "3  [[True five star dinner, A superb evening of f...   \n",
       "4  [[Best meal.... EVER, super food experience], ...   \n",
       "\n",
       "                                     Reviews_cleaned  \\\n",
       "0  Just like home A Warm Welcome to Wintry Amsterdam   \n",
       "1                  Great food and staff just perfect   \n",
       "2       Satisfaction Delicious old school restaurant   \n",
       "3  True five star dinner A superb evening of fine...   \n",
       "4           Best meal.... EVER super food experience   \n",
       "\n",
       "                                       Clean_Cuisine City_Group  \n",
       "0                              French Dutch European    Benelux  \n",
       "1  Dutch European Vegetarian Friendly Gluten Free...    Benelux  \n",
       "2  Mediterranean French International European Ve...    Benelux  \n",
       "3  French European International Contemporary Veg...    Benelux  \n",
       "4  Dutch European International Vegetarian Friend...    Benelux  "
      ]
     },
     "execution_count": 58,
     "metadata": {},
     "output_type": "execute_result"
    }
   ],
   "source": [
    "df.head()"
   ]
  },
  {
   "cell_type": "code",
   "execution_count": 60,
   "id": "24b8eb62-4db3-40f0-9584-ff06c1757b2e",
   "metadata": {},
   "outputs": [],
   "source": [
    "restaurant_reviews = df[['Name','City','Ranking','Rating','Price Range','Ranking_bin','Reviews_cleaned','Clean_Cuisine','City_Group']]"
   ]
  },
  {
   "cell_type": "code",
   "execution_count": 73,
   "id": "7378d9a7-060b-4479-b20b-bfe5c092a7c6",
   "metadata": {},
   "outputs": [],
   "source": [
    "df2 = df[['Rating','Reviews_cleaned','Clean_Cuisine']]"
   ]
  },
  {
   "cell_type": "code",
   "execution_count": 74,
   "id": "4efc9303-2f71-4e08-908a-ec3a5dfa7e3b",
   "metadata": {
    "scrolled": true
   },
   "outputs": [
    {
     "data": {
      "text/plain": [
       "Rating             0\n",
       "Reviews_cleaned    0\n",
       "Clean_Cuisine      0\n",
       "dtype: int64"
      ]
     },
     "execution_count": 74,
     "metadata": {},
     "output_type": "execute_result"
    }
   ],
   "source": [
    "df2.isnull().sum()"
   ]
  },
  {
   "cell_type": "code",
   "execution_count": 65,
   "id": "0c740e46-2d66-412a-88fe-86b28abbb0fe",
   "metadata": {},
   "outputs": [],
   "source": [
    "def clean_text(text: str) -> str:\n",
    "    if not isinstance(text, str):\n",
    "        return \"\"\n",
    "    \n",
    "    text = text.lower()\n",
    "    \n",
    "    text = re.sub(r'\\d+', ' NUM ', text)\n",
    "    \n",
    "    text = text.translate(str.maketrans('', '', string.punctuation))\n",
    "    \n",
    "    tokens = [word for word in text.split() if word not in stop_words]\n",
    "    \n",
    "    return \" \".join(tokens)"
   ]
  },
  {
   "cell_type": "code",
   "execution_count": 76,
   "id": "fbb97578-603e-476b-86bf-abe78113aa21",
   "metadata": {},
   "outputs": [],
   "source": [
    "def get_wordnet_pos(tag):\n",
    "    if tag.startswith('J'):\n",
    "        return wordnet.ADJ\n",
    "    elif tag.startswith('V'):\n",
    "        return wordnet.VERB\n",
    "    elif tag.startswith('N'):\n",
    "        return wordnet.NOUN\n",
    "    elif tag.startswith('R'):\n",
    "        return wordnet.ADV\n",
    "    else:\n",
    "        return wordnet.NOUN   \n",
    "\n",
    "def preprocess_text(text):\n",
    "    text = text.lower()\n",
    "    text = re.sub(r'\\d+', 'NUM', text)\n",
    "    text = text.translate(str.maketrans('', '', string.punctuation))\n",
    "    tokens = word_tokenize(text)\n",
    "    tokens = [w for w in tokens if w not in stop_words]\n",
    "    pos_tags = nltk.pos_tag(tokens)\n",
    "    tokens = [lemmatizer.lemmatize(word, get_wordnet_pos(tag)) for word, tag in pos_tags]\n",
    "    return \" \".join(tokens)"
   ]
  },
  {
   "cell_type": "code",
   "execution_count": 77,
   "id": "8ab943e0-66aa-46f6-ba2e-c81558bb1110",
   "metadata": {},
   "outputs": [],
   "source": [
    "df2['reviews_preprocessed'] = df2['Reviews_cleaned'].apply(preprocess_text)"
   ]
  },
  {
   "cell_type": "code",
   "execution_count": 78,
   "id": "8c1de174-b8f1-4f0c-9f22-eda5fb2d048a",
   "metadata": {},
   "outputs": [
    {
     "data": {
      "text/html": [
       "<div>\n",
       "<style scoped>\n",
       "    .dataframe tbody tr th:only-of-type {\n",
       "        vertical-align: middle;\n",
       "    }\n",
       "\n",
       "    .dataframe tbody tr th {\n",
       "        vertical-align: top;\n",
       "    }\n",
       "\n",
       "    .dataframe thead th {\n",
       "        text-align: right;\n",
       "    }\n",
       "</style>\n",
       "<table border=\"1\" class=\"dataframe\">\n",
       "  <thead>\n",
       "    <tr style=\"text-align: right;\">\n",
       "      <th></th>\n",
       "      <th>Rating</th>\n",
       "      <th>Reviews_cleaned</th>\n",
       "      <th>Clean_Cuisine</th>\n",
       "      <th>reviews_preprocessed</th>\n",
       "    </tr>\n",
       "  </thead>\n",
       "  <tbody>\n",
       "    <tr>\n",
       "      <th>0</th>\n",
       "      <td>5.0</td>\n",
       "      <td>Just like home A Warm Welcome to Wintry Amsterdam</td>\n",
       "      <td>French Dutch European</td>\n",
       "      <td>like home warm welcome wintry amsterdam</td>\n",
       "    </tr>\n",
       "    <tr>\n",
       "      <th>1</th>\n",
       "      <td>4.5</td>\n",
       "      <td>Great food and staff just perfect</td>\n",
       "      <td>Dutch European Vegetarian Friendly Gluten Free...</td>\n",
       "      <td>great food staff perfect</td>\n",
       "    </tr>\n",
       "    <tr>\n",
       "      <th>2</th>\n",
       "      <td>4.5</td>\n",
       "      <td>Satisfaction Delicious old school restaurant</td>\n",
       "      <td>Mediterranean French International European Ve...</td>\n",
       "      <td>satisfaction delicious old school restaurant</td>\n",
       "    </tr>\n",
       "    <tr>\n",
       "      <th>3</th>\n",
       "      <td>5.0</td>\n",
       "      <td>True five star dinner A superb evening of fine...</td>\n",
       "      <td>French European International Contemporary Veg...</td>\n",
       "      <td>true five star dinner superb even fine dining ...</td>\n",
       "    </tr>\n",
       "    <tr>\n",
       "      <th>4</th>\n",
       "      <td>4.5</td>\n",
       "      <td>Best meal.... EVER super food experience</td>\n",
       "      <td>Dutch European International Vegetarian Friend...</td>\n",
       "      <td>best meal ever super food experience</td>\n",
       "    </tr>\n",
       "  </tbody>\n",
       "</table>\n",
       "</div>"
      ],
      "text/plain": [
       "   Rating                                    Reviews_cleaned  \\\n",
       "0     5.0  Just like home A Warm Welcome to Wintry Amsterdam   \n",
       "1     4.5                  Great food and staff just perfect   \n",
       "2     4.5       Satisfaction Delicious old school restaurant   \n",
       "3     5.0  True five star dinner A superb evening of fine...   \n",
       "4     4.5           Best meal.... EVER super food experience   \n",
       "\n",
       "                                       Clean_Cuisine  \\\n",
       "0                              French Dutch European   \n",
       "1  Dutch European Vegetarian Friendly Gluten Free...   \n",
       "2  Mediterranean French International European Ve...   \n",
       "3  French European International Contemporary Veg...   \n",
       "4  Dutch European International Vegetarian Friend...   \n",
       "\n",
       "                                reviews_preprocessed  \n",
       "0            like home warm welcome wintry amsterdam  \n",
       "1                           great food staff perfect  \n",
       "2       satisfaction delicious old school restaurant  \n",
       "3  true five star dinner superb even fine dining ...  \n",
       "4               best meal ever super food experience  "
      ]
     },
     "execution_count": 78,
     "metadata": {},
     "output_type": "execute_result"
    }
   ],
   "source": [
    "df2.head()"
   ]
  },
  {
   "cell_type": "code",
   "execution_count": 80,
   "id": "aafb268e-1ee4-4285-b648-a11a15d9f8c7",
   "metadata": {},
   "outputs": [
    {
     "data": {
      "text/plain": [
       "89047"
      ]
     },
     "execution_count": 80,
     "metadata": {},
     "output_type": "execute_result"
    }
   ],
   "source": [
    "len(df2)"
   ]
  },
  {
   "cell_type": "code",
   "execution_count": 82,
   "id": "db6f92ea-be11-4cfc-a903-33838db6401d",
   "metadata": {},
   "outputs": [],
   "source": [
    "df2.to_csv(\"df_Cleaned.csv\",index=False)"
   ]
  },
  {
   "cell_type": "code",
   "execution_count": 83,
   "id": "fe0bd0bb-eaa5-4a9d-b36a-4f9c1a3901af",
   "metadata": {},
   "outputs": [],
   "source": [
    "check_df = pd.read_csv(\"df_Cleaned.csv\")"
   ]
  },
  {
   "cell_type": "code",
   "execution_count": 84,
   "id": "35ded690-da1a-406f-b566-be1632deea2d",
   "metadata": {},
   "outputs": [
    {
     "data": {
      "text/plain": [
       "Rating                     0\n",
       "Reviews_cleaned         9675\n",
       "Clean_Cuisine              0\n",
       "reviews_preprocessed    9685\n",
       "dtype: int64"
      ]
     },
     "execution_count": 84,
     "metadata": {},
     "output_type": "execute_result"
    }
   ],
   "source": [
    "check_df.isnull().sum()"
   ]
  },
  {
   "cell_type": "code",
   "execution_count": 87,
   "id": "953893b3-3520-4331-95d8-2caa2b6768f4",
   "metadata": {},
   "outputs": [
    {
     "data": {
      "text/plain": [
       "89047"
      ]
     },
     "execution_count": 87,
     "metadata": {},
     "output_type": "execute_result"
    }
   ],
   "source": [
    "len(check_df)"
   ]
  },
  {
   "cell_type": "code",
   "execution_count": 88,
   "id": "5d3ec954-6d6a-4cc4-a974-c8c655b7b3bb",
   "metadata": {},
   "outputs": [],
   "source": [
    "df2.to_pickle(\"df_cleaned_2.pkl\")"
   ]
  },
  {
   "cell_type": "code",
   "execution_count": 67,
   "id": "431134f6-ac4f-4df4-bca3-bd718b0847c4",
   "metadata": {},
   "outputs": [],
   "source": [
    "restaurant_reviews.to_pickle(\"restaurant_reviews.pkl\")"
   ]
  },
  {
   "cell_type": "code",
   "execution_count": null,
   "id": "bdb2ae5e-093a-46c4-b98c-19e158080422",
   "metadata": {},
   "outputs": [],
   "source": []
  }
 ],
 "metadata": {
  "kernelspec": {
   "display_name": "Python (email_classification_env)",
   "language": "python",
   "name": "email_classification_env"
  },
  "language_info": {
   "codemirror_mode": {
    "name": "ipython",
    "version": 3
   },
   "file_extension": ".py",
   "mimetype": "text/x-python",
   "name": "python",
   "nbconvert_exporter": "python",
   "pygments_lexer": "ipython3",
   "version": "3.13.5"
  }
 },
 "nbformat": 4,
 "nbformat_minor": 5
}
